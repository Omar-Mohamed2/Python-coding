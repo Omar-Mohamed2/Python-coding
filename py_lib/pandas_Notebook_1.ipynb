{
 "cells": [
  {
   "attachments": {
    "1_n_ms1q5YoHAQXXUIfeADKQ.png": {
     "image/png": "[encoded data removed]"
    }
   },
   "cell_type": "markdown",
   "id": "88855756",
   "metadata": {},
   "source": [
    "## Pandas\n",
    "\n",
    "`Pandas is built on numpy and matplotlib libraries`\n",
    "![1_n_ms1q5YoHAQXXUIfeADKQ.png](attachment:1_n_ms1q5YoHAQXXUIfeADKQ.png)"
   ]
  },
  {
   "cell_type": "markdown",
   "id": "577cf0bf",
   "metadata": {},
   "source": [
    "### Intallation\n",
    "\n",
    "``` python\n",
    "    ## using pip\n",
    "    pip install pandas\n",
    "    \n",
    "    ## using conda\n",
    "    conda install pandas\n",
    "    \n",
    "    ## Further\n",
    "    pip install --upgrade pandas==1.3.4 --user\n",
    "\n",
    "```"
   ]
  },
  {
   "cell_type": "code",
   "execution_count": null,
   "id": "6191deaf",
   "metadata": {},
   "outputs": [],
   "source": [
    "## Let's import the library\n",
    "import pandas as pd"
   ]
  },
  {
   "cell_type": "code",
   "execution_count": null,
   "id": "cb37ed08",
   "metadata": {},
   "outputs": [],
   "source": [
    "pd.__version__"
   ]
  },
  {
   "cell_type": "markdown",
   "id": "7aeb64db",
   "metadata": {},
   "source": [
    "### DataFrame\n",
    "\n",
    "### `Reading and some Statistics`"
   ]
  },
  {
   "cell_type": "code",
   "execution_count": null,
   "id": "3071f0ae",
   "metadata": {},
   "outputs": [],
   "source": [
    "## read csv files using pandas\n",
    "df_home = pd.read_csv('D:/Data science/Coding/Ml coding/SalaryData.csv')\n",
    "\n",
    "## show only the head-- default 5 rows -- This Tabular Data called (DataFrame)\n",
    "df_home.head()"
   ]
  },
  {
   "cell_type": "code",
   "execution_count": null,
   "id": "9527c988",
   "metadata": {},
   "outputs": [],
   "source": [
    "## Let's see some information about this Dataset\n",
    "df_home.info()        ## We found some important information here"
   ]
  },
  {
   "cell_type": "code",
   "execution_count": null,
   "id": "c8425e7f",
   "metadata": {},
   "outputs": [],
   "source": [
    "## what about shape of this Dataset\n",
    "df_home.shape              ## 51 instance & 6 features"
   ]
  },
  {
   "cell_type": "code",
   "execution_count": null,
   "id": "705bc508",
   "metadata": {},
   "outputs": [],
   "source": [
    "## What about some statistics about Dataset\n",
    "df_home.describe()"
   ]
  },
  {
   "cell_type": "code",
   "execution_count": null,
   "id": "7778ce04",
   "metadata": {
    "scrolled": true
   },
   "outputs": [],
   "source": [
    "## Get Rows of this Dataset in numpy array\n",
    "df_home.values"
   ]
  },
  {
   "cell_type": "code",
   "execution_count": null,
   "id": "d1cfb530",
   "metadata": {},
   "outputs": [],
   "source": [
    "## Get Columns names\n",
    "df_home.columns"
   ]
  },
  {
   "cell_type": "code",
   "execution_count": null,
   "id": "b00af24e",
   "metadata": {},
   "outputs": [],
   "source": [
    "## Get Indecies of The Dataset\n",
    "df_home.index"
   ]
  },
  {
   "cell_type": "markdown",
   "id": "e82f0888",
   "metadata": {},
   "source": [
    "### `Sorting`"
   ]
  },
  {
   "cell_type": "code",
   "execution_count": null,
   "id": "667f9297",
   "metadata": {},
   "outputs": [],
   "source": [
    "## Sort by Values  (talking about --> ascending & inplace)\n",
    "df_home_sorted = df_home.sort_values(by='Software Engineer',ascending=False)\n",
    "\n",
    "## Get the Head of sorted  DataFrame\n",
    "df_home_sorted.head()"
   ]
  },
  {
   "cell_type": "code",
   "execution_count": null,
   "id": "6dfa69b6",
   "metadata": {},
   "outputs": [],
   "source": [
    "## Sort by more than one Value\n",
    "df_home_sorted = df_home.sort_values(by=['individuals', 'family_members'], ascending=[False, True])\n",
    "\n",
    "## Get the Head of sorted DataFrame\n",
    "df_home_sorted.head()"
   ]
  },
  {
   "cell_type": "markdown",
   "id": "76d31feb",
   "metadata": {},
   "source": [
    "### `Subsetting Columns`"
   ]
  },
  {
   "cell_type": "code",
   "execution_count": null,
   "id": "4215f045",
   "metadata": {
    "scrolled": true
   },
   "outputs": [],
   "source": [
    "## Get only specified column or columns (Series)\n",
    "df_home_sorted['region']  ## or  --> df_home_sorted.region"
   ]
  },
  {
   "cell_type": "code",
   "execution_count": null,
   "id": "b8f1cbfd",
   "metadata": {
    "scrolled": true
   },
   "outputs": [],
   "source": [
    "## Get only specified column or columns\n",
    "df_home_sorted[['region', 'individuals']]"
   ]
  },
  {
   "cell_type": "code",
   "execution_count": null,
   "id": "689833e6",
   "metadata": {
    "scrolled": true
   },
   "outputs": [],
   "source": [
    "## Subsetting Rows\n",
    "\n",
    "## returns boolean series \n",
    "df_home_sorted[df_home_sorted['family_members']<6000]"
   ]
  },
  {
   "cell_type": "code",
   "execution_count": null,
   "id": "2cc37126",
   "metadata": {},
   "outputs": [],
   "source": [
    "## Subset Rows according to condition\n",
    "\n",
    "## returns boolean series \n",
    "df_home_sorted[df_home_sorted['region']=='South Atlantic']"
   ]
  },
  {
   "cell_type": "code",
   "execution_count": null,
   "id": "a25c4e58",
   "metadata": {},
   "outputs": [],
   "source": [
    "## Subset Rows according to condition\n",
    "\n",
    "## returns boolean series \n",
    "df_home_sorted[df_home_sorted['region']=='Pacific']"
   ]
  },
  {
   "cell_type": "code",
   "execution_count": null,
   "id": "805da30e",
   "metadata": {},
   "outputs": [],
   "source": [
    "## Subset Rows according to condition\n",
    "\n",
    "## returns boolean series \n",
    "df_home_sorted[df_home_sorted['individuals']>16424]"
   ]
  },
  {
   "cell_type": "code",
   "execution_count": null,
   "id": "398d0fc0",
   "metadata": {},
   "outputs": [],
   "source": [
    "## Subset Rows according to more than one condition  (and)\n",
    "\n",
    "## returns boolean series \n",
    "df_home_sorted[(df_home_sorted['region']=='Pacific') & (df_home_sorted['individuals']>16424)]"
   ]
  },
  {
   "cell_type": "code",
   "execution_count": null,
   "id": "e79c191f",
   "metadata": {},
   "outputs": [],
   "source": [
    "## Subset Rows according to more than one condition (or)\n",
    "\n",
    "## returns boolean series \n",
    "df_home_sorted[(df_home_sorted['region']=='Pacific') | (df_home_sorted['individuals']>16424)]"
   ]
  },
  {
   "cell_type": "code",
   "execution_count": null,
   "id": "3c85324f",
   "metadata": {
    "scrolled": true
   },
   "outputs": [],
   "source": [
    "## Subsetting using (isin) function\n",
    "lst_region = ['Pacific', 'South Atlantic', 'West South Central']\n",
    "\n",
    "## Return boolean series then subset rows which only are True\n",
    "df_home_sorted[df_home_sorted['region'].isin(lst_region)]"
   ]
  },
  {
   "cell_type": "markdown",
   "id": "5757ff4a",
   "metadata": {},
   "source": [
    "### `Adding new columns`"
   ]
  },
  {
   "cell_type": "code",
   "execution_count": null,
   "id": "e576c4c8",
   "metadata": {},
   "outputs": [],
   "source": [
    "## What about creating a new column which is equal (state_pop / family_members)\n",
    "\n",
    "df_home_sorted['new_col'] = df_home_sorted['state_pop']/df_home_sorted['family_members']\n",
    "\n",
    "## check again\n",
    "df_home_sorted.head()"
   ]
  },
  {
   "cell_type": "markdown",
   "id": "07e56691",
   "metadata": {},
   "source": [
    "### `Summary Statistics for numerical Data`"
   ]
  },
  {
   "cell_type": "code",
   "execution_count": null,
   "id": "bb447f6e",
   "metadata": {},
   "outputs": [],
   "source": [
    "## Get some statitics for numerical columns (mean and std)\n",
    "df_home_sorted['individuals'].mean(), df_home_sorted['individuals'].std()"
   ]
  },
  {
   "cell_type": "code",
   "execution_count": null,
   "id": "13599f97",
   "metadata": {},
   "outputs": [],
   "source": [
    "## Get some statitics for numerical  (median and variance)\n",
    "df_home_sorted['individuals'].median(), df_home_sorted['individuals'].var()"
   ]
  },
  {
   "cell_type": "code",
   "execution_count": null,
   "id": "674cf5c3",
   "metadata": {},
   "outputs": [],
   "source": [
    "## Get some statitics for numerical  (max and min)\n",
    "df_home_sorted['individuals'].max(), df_home_sorted['individuals'].min()"
   ]
  },
  {
   "cell_type": "code",
   "execution_count": null,
   "id": "e5ef85ca",
   "metadata": {},
   "outputs": [],
   "source": [
    "## quantiles - @ 50% == Median\n",
    "df_home_sorted['individuals'].quantile(0.5), df_home_sorted['individuals'].quantile(0.3)"
   ]
  },
  {
   "cell_type": "code",
   "execution_count": null,
   "id": "00953950",
   "metadata": {},
   "outputs": [],
   "source": [
    "## quantiles - @ 50% == Median\n",
    "df_home_sorted[['individuals', 'family_members']].quantile(0.3)"
   ]
  },
  {
   "cell_type": "code",
   "execution_count": null,
   "id": "4aef3661",
   "metadata": {
    "scrolled": true
   },
   "outputs": [],
   "source": [
    "## Cumsum & cumproduct & cummax & cummin\n",
    "df_home_sorted['individuals'].cumsum()"
   ]
  },
  {
   "cell_type": "markdown",
   "id": "5ea9a3c0",
   "metadata": {},
   "source": [
    "### `Counting`"
   ]
  },
  {
   "cell_type": "code",
   "execution_count": null,
   "id": "4a713a07",
   "metadata": {
    "scrolled": true
   },
   "outputs": [],
   "source": [
    "## get duplicates\n",
    "df_home_sorted[df_home_sorted.duplicated(subset=['region'])]"
   ]
  },
  {
   "cell_type": "code",
   "execution_count": null,
   "id": "af9eea84",
   "metadata": {},
   "outputs": [],
   "source": [
    "## what about dropping dublicates in region column (just a Demo)\n",
    "unique_regions = df_home_sorted.drop_duplicates(subset=['region'], keep='first')\n",
    "\n",
    "## let's see again\n",
    "unique_regions"
   ]
  },
  {
   "cell_type": "code",
   "execution_count": null,
   "id": "b9cb3fcf",
   "metadata": {
    "scrolled": true
   },
   "outputs": [],
   "source": [
    "## what about dropping dublicates in region column (just a Demo)\n",
    "unique_regions = df_home_sorted.drop_duplicates(subset=['region', 'state'], keep='first')\n",
    "\n",
    "## let's see again\n",
    "unique_regions"
   ]
  },
  {
   "cell_type": "code",
   "execution_count": null,
   "id": "386a1248",
   "metadata": {},
   "outputs": [],
   "source": [
    "## check unique values for specific column --> return numpy array\n",
    "pd.unique(df_home_sorted['region'])"
   ]
  },
  {
   "cell_type": "code",
   "execution_count": null,
   "id": "3b4f0902",
   "metadata": {},
   "outputs": [],
   "source": [
    "## counting --> Try play with these arguments (False is default for both except sort)\n",
    "df_home_sorted['region'].value_counts(normalize=False, ascending=False, sort=True)"
   ]
  },
  {
   "cell_type": "markdown",
   "id": "3cf3f7f5",
   "metadata": {},
   "source": [
    "### `Summarizing by Group`"
   ]
  },
  {
   "cell_type": "code",
   "execution_count": null,
   "id": "10d3280f",
   "metadata": {},
   "outputs": [],
   "source": [
    "## Ex: what about getting the mean of family_members for each region\n",
    "df_home_sorted['region'].unique()"
   ]
  },
  {
   "cell_type": "code",
   "execution_count": null,
   "id": "4becfc2d",
   "metadata": {
    "scrolled": true
   },
   "outputs": [],
   "source": [
    "## get mean for family_members for each region separately ---> very exaustivae and not smart\n",
    "df_home_sorted[df_home_sorted['region']=='Pacific']['family_members'].mean(), \\\n",
    "df_home_sorted[df_home_sorted['region']=='Mid-Atlantic']['family_members'].mean(), \\\n",
    "df_home_sorted[df_home_sorted['region']=='South Atlantic']['family_members'].mean(), \\\n",
    "df_home_sorted[df_home_sorted['region']=='West South Central']['family_members'].mean(), \\\n",
    "df_home_sorted[df_home_sorted['region']=='Mountain']['family_members'].mean(), \\\n",
    "df_home_sorted[df_home_sorted['region']=='East North Central']['family_members'].mean(), \\\n",
    "df_home_sorted[df_home_sorted['region']=='New England']['family_members'].mean(), \\\n",
    "df_home_sorted[df_home_sorted['region']=='East South Central']['family_members'].mean(), \\\n",
    "df_home_sorted[df_home_sorted['region']=='West South Central']['family_members'].mean()"
   ]
  },
  {
   "cell_type": "code",
   "execution_count": null,
   "id": "58c512b1",
   "metadata": {},
   "outputs": [],
   "source": [
    "## what about group by\n",
    "df_home_sorted.groupby(by='region')['family_members'].mean()"
   ]
  },
  {
   "cell_type": "code",
   "execution_count": null,
   "id": "3e493fc7",
   "metadata": {},
   "outputs": [],
   "source": [
    "## what about more aggregate functions \n",
    "## Method 1\n",
    "\n",
    "## reset_index() --> try discover by yourself by playing with code\n",
    "df_home_sorted.groupby(by='region')['family_members'].agg([max, min, sum]).reset_index()"
   ]
  },
  {
   "cell_type": "code",
   "execution_count": null,
   "id": "250801f7",
   "metadata": {},
   "outputs": [],
   "source": [
    "## what about more aggregate functions \n",
    "## Method 2\n",
    "\n",
    "## reset_index() --> try discover by yourself by playing with code\n",
    "df_home_sorted.groupby(by='region')['family_members'].agg({'max', 'min', 'sum', 'mean'}).reset_index()"
   ]
  },
  {
   "cell_type": "code",
   "execution_count": null,
   "id": "dea93d04",
   "metadata": {
    "scrolled": true
   },
   "outputs": [],
   "source": [
    "## group by more than one column\n",
    "\n",
    "## what about more aggregate functions \n",
    "## Method 2\n",
    "\n",
    "## reset_index() --> try discover by yourself by playing with code\n",
    "df_home_sorted.groupby(by=['region', 'state'])[['family_members', 'individuals']].agg({'max', 'min', 'mean'})"
   ]
  },
  {
   "cell_type": "markdown",
   "id": "650ba729",
   "metadata": {},
   "source": [
    "###  `Pivot Table`"
   ]
  },
  {
   "cell_type": "code",
   "execution_count": null,
   "id": "260aedf0",
   "metadata": {
    "scrolled": true
   },
   "outputs": [],
   "source": [
    "## Create what we have done above using pivot_table\n",
    "df_home_sorted.pivot_table(values='family_members', \n",
    "                           index=['region', 'state'], \n",
    "                           aggfunc=['max', 'min', 'mean'])"
   ]
  },
  {
   "cell_type": "code",
   "execution_count": null,
   "id": "f41802fe",
   "metadata": {},
   "outputs": [],
   "source": [
    "## remmber pivot table\n",
    "df_home_sorted.pivot_table(index='region').mean(axis=0)  ## or axis='index'"
   ]
  },
  {
   "cell_type": "code",
   "execution_count": null,
   "id": "2db17a1d",
   "metadata": {},
   "outputs": [],
   "source": [
    "## remmber pivot table\n",
    "df_home_sorted.pivot_table(index='region').mean(axis=1)   ## or axis='columns'"
   ]
  },
  {
   "cell_type": "markdown",
   "id": "f62445c5",
   "metadata": {},
   "source": [
    "### `Setting an Index`"
   ]
  },
  {
   "cell_type": "code",
   "execution_count": null,
   "id": "652fb11b",
   "metadata": {
    "scrolled": true
   },
   "outputs": [],
   "source": [
    "## make region column as an Index --> that helps much in searching and make it faster and smart\n",
    "\n",
    "## discover what (inplace) parameter does \n",
    "## --> override the variable instead of assigning it again to the same variable name\n",
    "df_home_indexed = df_home_sorted.set_index('region')\n",
    "\n",
    "df_home_indexed.head()"
   ]
  },
  {
   "cell_type": "code",
   "execution_count": null,
   "id": "dd9caf43",
   "metadata": {
    "scrolled": true
   },
   "outputs": [],
   "source": [
    "## removing an Index\n",
    "df_home_indexed.reset_index()"
   ]
  },
  {
   "cell_type": "code",
   "execution_count": null,
   "id": "3f4fa214",
   "metadata": {
    "scrolled": true
   },
   "outputs": [],
   "source": [
    "## But why make Indexing --> \n",
    "## It makes subsetting much more easier, faster and smart\n",
    "df_home_indexed.head()"
   ]
  },
  {
   "cell_type": "code",
   "execution_count": null,
   "id": "ddfa7895",
   "metadata": {},
   "outputs": [],
   "source": [
    "## usin loc & iloc\n",
    "df_home_indexed.loc[['Pacific', 'Mid-Atlantic']]"
   ]
  },
  {
   "cell_type": "markdown",
   "id": "2dd29ff7",
   "metadata": {},
   "source": [
    "### `Let's make a smart compare between them`\n",
    "`df_home_indexed & df_home_sorted`\n",
    "\n",
    "`Indexing is much much faster and smarter --> specially for big data (millions of instances)`"
   ]
  },
  {
   "cell_type": "code",
   "execution_count": null,
   "id": "93766635",
   "metadata": {},
   "outputs": [],
   "source": [
    "import time"
   ]
  },
  {
   "cell_type": "code",
   "execution_count": null,
   "id": "4dc95d90",
   "metadata": {},
   "outputs": [],
   "source": [
    "## using traditional method\n",
    "start_time = time.time()\n",
    "\n",
    "## get the dataframe as we did before\n",
    "without_indexing = df_home_sorted[df_home_sorted['region'].isin(['Pacific', 'Mid-Atlantic'])]\n",
    "\n",
    "## get the time after finishing the above process\n",
    "end_time = time.time()\n",
    "\n",
    "## subset the time at the end from start\n",
    "time_without = end_time - start_time\n",
    "time_without   ## this time is for processing the output using traditional method (without indexing)"
   ]
  },
  {
   "cell_type": "code",
   "execution_count": null,
   "id": "250b6fc9",
   "metadata": {},
   "outputs": [],
   "source": [
    "## using indexing method ('region') as an Index\n",
    "start_time = time.time()\n",
    "\n",
    "## get the dataframe as we did before\n",
    "with_indexing = df_home_indexed.loc[['Pacific', 'Mid-Atlantic']]\n",
    "\n",
    "## get the time after finishing the above process\n",
    "end_time = time.time()\n",
    "\n",
    "## subset the time at the end from start\n",
    "time_with = end_time - start_time\n",
    "time_with   "
   ]
  },
  {
   "cell_type": "code",
   "execution_count": null,
   "id": "6573a786",
   "metadata": {},
   "outputs": [],
   "source": [
    "## you can make more than one index and it can by not unique\n",
    "df_home_multiIndex = df_home_sorted.set_index(['region', 'state'])\n",
    "\n",
    "df_home_multiIndex.head()"
   ]
  },
  {
   "cell_type": "code",
   "execution_count": null,
   "id": "5e900e65",
   "metadata": {
    "scrolled": true
   },
   "outputs": [],
   "source": [
    "## But how to subset from multiIndex --> Thinking ??!! \n",
    "\n",
    "## This is called (outer subsetting) because it only takes the outer Index\n",
    "df_home_multiIndex.loc[['Pacific', 'South Atlantic']]"
   ]
  },
  {
   "cell_type": "code",
   "execution_count": null,
   "id": "471c19d5",
   "metadata": {},
   "outputs": [],
   "source": [
    "## But how to subset from multiIndex --> Thinking ??!! \n",
    "\n",
    "## This is called (Inner subsetting) because it  takes the outer & Inner Index\n",
    "## Give it a tuple --> each tuple contains (outer_index, inner_index)\n",
    "df_home_multiIndex.loc[[('Pacific', 'California'), ('South Atlantic', 'North Carolina')]]"
   ]
  },
  {
   "cell_type": "code",
   "execution_count": null,
   "id": "9d7ae9e9",
   "metadata": {
    "scrolled": true
   },
   "outputs": [],
   "source": [
    "## sorting by Index\n",
    "df_home_indexed.sort_index(level='region', ascending=False)"
   ]
  },
  {
   "cell_type": "markdown",
   "id": "f5342bc9",
   "metadata": {},
   "source": [
    "### `Using .loc and .iloc`\n",
    "\n",
    "`.loc --> takes a strings `  <br />\n",
    "` .iloc --> takes an index `"
   ]
  },
  {
   "cell_type": "code",
   "execution_count": null,
   "id": "c2ede462",
   "metadata": {},
   "outputs": [],
   "source": [
    "### Remember slicing\n",
    "breeds = [\"Labrador\", \"Poodle\",\n",
    "            \"Chow Chow\", \"Schnauzer\",\n",
    "            \"Labrador\", \"Chihuahua\",\n",
    "            \"St. Bernard\"]\n",
    "\n",
    "breeds[1:5]"
   ]
  },
  {
   "cell_type": "code",
   "execution_count": null,
   "id": "a111d09d",
   "metadata": {
    "scrolled": true
   },
   "outputs": [],
   "source": [
    "## sort using index in descendign order\n",
    "df_home_indexed = df_home_indexed.sort_index(level='region', ascending=False)\n",
    "\n",
    "df_home_indexed"
   ]
  },
  {
   "cell_type": "markdown",
   "id": "8b0fb78e",
   "metadata": {},
   "source": [
    "`.loc`"
   ]
  },
  {
   "cell_type": "code",
   "execution_count": null,
   "id": "c9804ff7",
   "metadata": {
    "scrolled": true
   },
   "outputs": [],
   "source": [
    "## using loc to slice only some rows\n",
    "## note that using loc (end is inclusive) but in lists and numpy (end is exclusive)\n",
    "df_home_indexed.loc['West South Central':'Mountain']"
   ]
  },
  {
   "cell_type": "code",
   "execution_count": null,
   "id": "18a144b9",
   "metadata": {
    "scrolled": true
   },
   "outputs": [],
   "source": [
    "## what about slicing some columns with slicing of these ros\n",
    "df_home_indexed.loc['West South Central':'Mountain', 'state':'family_members']"
   ]
  },
  {
   "cell_type": "markdown",
   "id": "b98c5cfb",
   "metadata": {},
   "source": [
    "`.iloc`"
   ]
  },
  {
   "cell_type": "code",
   "execution_count": null,
   "id": "f2e638c5",
   "metadata": {},
   "outputs": [],
   "source": [
    "## using iloc to slice some rows\n",
    "df_home_indexed.iloc[5:15]"
   ]
  },
  {
   "cell_type": "code",
   "execution_count": null,
   "id": "8e8aac31",
   "metadata": {},
   "outputs": [],
   "source": [
    "## using iloc to slice some rows and columns\n",
    "df_home_indexed.iloc[5:15, :3]          ## (end is exclusive)"
   ]
  },
  {
   "cell_type": "code",
   "execution_count": null,
   "id": "ec4a485e",
   "metadata": {},
   "outputs": [],
   "source": [
    "## remmber pivot table\n",
    "df_home_indexed.pivot_table(index='region').mean(axis=0)  ## or axis='index'"
   ]
  },
  {
   "cell_type": "code",
   "execution_count": null,
   "id": "0fa8e351",
   "metadata": {
    "scrolled": true
   },
   "outputs": [],
   "source": [
    "## remmber pivot table\n",
    "df_home_indexed.pivot_table(index='region').mean(axis=1)   ## or axis='columns'"
   ]
  },
  {
   "cell_type": "markdown",
   "id": "77bfa88e",
   "metadata": {},
   "source": [
    "### Visualization using pandas"
   ]
  },
  {
   "cell_type": "markdown",
   "id": "36c5c3c3",
   "metadata": {},
   "source": [
    "#### `Histogram`  \n",
    "\n",
    "`is preferable to be done for numerical continuous Data`"
   ]
  },
  {
   "cell_type": "code",
   "execution_count": null,
   "id": "d4dd16d4",
   "metadata": {},
   "outputs": [],
   "source": [
    "## show histogram of individuals\n",
    "df_home['individuals'].hist(bins=30);"
   ]
  },
  {
   "cell_type": "code",
   "execution_count": null,
   "id": "8114b59b",
   "metadata": {},
   "outputs": [],
   "source": [
    "## show histogram of individuals\n",
    "df_home['family_members'].hist(bins=30);"
   ]
  },
  {
   "cell_type": "markdown",
   "id": "c0833348",
   "metadata": {},
   "source": [
    "### `Bar plot`"
   ]
  },
  {
   "cell_type": "code",
   "execution_count": null,
   "id": "2d33d09f",
   "metadata": {},
   "outputs": [],
   "source": [
    "## Bar plot for category data\n",
    "df_home['region'].value_counts().plot(kind='bar');"
   ]
  },
  {
   "cell_type": "markdown",
   "id": "0f3172ea",
   "metadata": {},
   "source": [
    "### `Scatter plot`"
   ]
  },
  {
   "cell_type": "code",
   "execution_count": null,
   "id": "062803c0",
   "metadata": {},
   "outputs": [],
   "source": [
    "## scatter plot between two numerical features\n",
    "df_home.plot(kind='scatter', x='state_pop', y='family_members');"
   ]
  },
  {
   "cell_type": "markdown",
   "id": "726136dd",
   "metadata": {},
   "source": [
    "### `Line plot`"
   ]
  },
  {
   "cell_type": "code",
   "execution_count": null,
   "id": "4618b9e8",
   "metadata": {},
   "outputs": [],
   "source": [
    "## scatter plot between two numerical features\n",
    "## Try playing with these parameters and more\n",
    "df_home_sorted.plot(kind='line', x='region', y='family_members', rot=45, \n",
    "                    xlabel='region', ylabel='family_members', legend=False);"
   ]
  },
  {
   "attachments": {
    "999e.png": {
     "image/png": "[encoded data removed]"
    }
   },
   "cell_type": "markdown",
   "id": "6447fa4b",
   "metadata": {},
   "source": [
    "### `Dealing with missing Data`\n",
    "\n",
    "example\n",
    "![999e.png](attachment:999e.png)"
   ]
  },
  {
   "cell_type": "markdown",
   "id": "1bd92160",
   "metadata": {},
   "source": [
    "### Dealing with New Dataset"
   ]
  },
  {
   "cell_type": "code",
   "execution_count": null,
   "id": "45ef3c2f",
   "metadata": {},
   "outputs": [],
   "source": [
    "## read the dataset\n",
    "df_housing = pd.read_csv('files/housing.csv')\n",
    "\n",
    "## show the head\n",
    "df_housing.head()"
   ]
  },
  {
   "cell_type": "code",
   "execution_count": null,
   "id": "ab0aa07f",
   "metadata": {},
   "outputs": [],
   "source": [
    "## check null\n",
    "df_housing.isna().any()"
   ]
  },
  {
   "cell_type": "code",
   "execution_count": null,
   "id": "0d8f77d8",
   "metadata": {},
   "outputs": [],
   "source": [
    "## get the sum of null data for each feature\n",
    "df_housing.isna().sum()"
   ]
  },
  {
   "cell_type": "code",
   "execution_count": null,
   "id": "22726584",
   "metadata": {},
   "outputs": [],
   "source": [
    "## Get the rows where total_bedrooms is nan\n",
    "df_housing[df_housing['total_bedrooms'].isna()]"
   ]
  },
  {
   "cell_type": "code",
   "execution_count": null,
   "id": "db5055a8",
   "metadata": {
    "scrolled": true
   },
   "outputs": [],
   "source": [
    "## get the sum of null data for each feature\n",
    "df_housing.isna().sum().plot(kind='bar');"
   ]
  },
  {
   "cell_type": "markdown",
   "id": "55f2fcd4",
   "metadata": {},
   "source": [
    "### `Using missingno library`\n",
    "\n",
    "`A library is used to visualize missing values in DataFrame`"
   ]
  },
  {
   "cell_type": "code",
   "execution_count": null,
   "id": "e30d30ee",
   "metadata": {},
   "outputs": [],
   "source": [
    "import missingno as msno"
   ]
  },
  {
   "cell_type": "code",
   "execution_count": null,
   "id": "c9a83c2c",
   "metadata": {
    "scrolled": true
   },
   "outputs": [],
   "source": [
    "## Method 1\n",
    "\n",
    "msno.matrix(df_housing);"
   ]
  },
  {
   "cell_type": "code",
   "execution_count": null,
   "id": "055be0cf",
   "metadata": {},
   "outputs": [],
   "source": [
    "## Method 2\n",
    "\n",
    "msno.bar(df_housing);"
   ]
  },
  {
   "cell_type": "markdown",
   "id": "a3c1ca05",
   "metadata": {},
   "source": [
    "### How to deal with missing data\n",
    "\n",
    "` 1. Drop nans for these featurse (limited)` <br />\n",
    "` 2. Imputing (filling nans) by [mean or median or mode or specific value]` <br />\n",
    "` 3. Drop the whole feature`"
   ]
  },
  {
   "cell_type": "code",
   "execution_count": null,
   "id": "594be3fb",
   "metadata": {},
   "outputs": [],
   "source": [
    "## Let's try both methods\n",
    "\n",
    "## Let's check the shape before dropping\n",
    "df_housing.shape"
   ]
  },
  {
   "cell_type": "markdown",
   "id": "39d6861c",
   "metadata": {},
   "source": [
    "`1. Drop nans for these features`"
   ]
  },
  {
   "cell_type": "code",
   "execution_count": null,
   "id": "2001fe8d",
   "metadata": {},
   "outputs": [],
   "source": [
    "## drop nans\n",
    "## Note these parameters carefully \n",
    "## --> subset (desired columns), if not specified it will be for all columns\n",
    "\n",
    "df_housing_dropped = df_housing.dropna(subset=['total_bedrooms'], axis=0)\n",
    "\n",
    "## shape after dropping\n",
    "df_housing_dropped.shape"
   ]
  },
  {
   "cell_type": "markdown",
   "id": "aa98e6e6",
   "metadata": {},
   "source": [
    "`2. Imputing using mean`"
   ]
  },
  {
   "cell_type": "code",
   "execution_count": null,
   "id": "6715a79f",
   "metadata": {},
   "outputs": [],
   "source": [
    "## Note that here we only have missing value in numerical feature\n",
    "## so Impute the value with its mean (for example)\n",
    "## take care if you have missing value in categorical column, there is no mean it isn't numerical\n",
    "## we will spend much time dealing with these problems in Machine learning phase (don't worry)\n",
    "\n",
    "df_housing.fillna(value=df_housing['total_bedrooms'].mean())"
   ]
  },
  {
   "cell_type": "markdown",
   "id": "d7c42b40",
   "metadata": {},
   "source": [
    "### `Creating a DataFrame`"
   ]
  },
  {
   "cell_type": "code",
   "execution_count": null,
   "id": "d5c7aa6c",
   "metadata": {},
   "outputs": [],
   "source": [
    "## create a dataframe\n",
    "\n",
    "my_df = pd.DataFrame({'Name': ['Mohammed Agoor', 'Mohammed Alaa', 'Mostafa Ahmed'], \n",
    "                      'Age': [25, 28, 29], \n",
    "                      'Job': ['ML Engineer', 'Software Developper', 'Civil Enginner']})\n",
    "my_df"
   ]
  },
  {
   "cell_type": "code",
   "execution_count": null,
   "id": "908a447d",
   "metadata": {},
   "outputs": [],
   "source": [
    "## What about saving this dataframe to my computer in desired format (CVS, Json .... etc)\n",
    "my_df.to_csv('files/my_df.csv')"
   ]
  },
  {
   "cell_type": "markdown",
   "id": "5b5f40cd",
   "metadata": {},
   "source": [
    "### Done!"
   ]
  },
  {
   "cell_type": "markdown",
   "id": "82c28acd",
   "metadata": {},
   "source": [
    "----"
   ]
  }
 ],
 "metadata": {
  "kernelspec": {
   "display_name": "Python 3 (ipykernel)",
   "language": "python",
   "name": "python3"
  },
  "language_info": {
   "codemirror_mode": {
    "name": "ipython",
    "version": 3
   },
   "file_extension": ".py",
   "mimetype": "text/x-python",
   "name": "python",
   "nbconvert_exporter": "python",
   "pygments_lexer": "ipython3",
   "version": "3.11.3"
  }
 },
 "nbformat": 4,
 "nbformat_minor": 5
}
