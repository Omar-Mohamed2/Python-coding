{
 "cells": [
  {
   "cell_type": "markdown",
   "metadata": {},
   "source": [
    "Lists"
   ]
  },
  {
   "cell_type": "code",
   "execution_count": null,
   "metadata": {},
   "outputs": [],
   "source": [
    "print(\"this a explain the operation on \\\"lists\\\"\")  \n",
    "print(\"\\n\") \n",
    "# list is a series of ordered list allow index access and adding elements\n",
    "list1=[1,2,3]\n",
    "list2=[5,6,7]\n",
    "\n",
    "list1.extend(list2)\n",
    " \n",
    "print(list1) \n",
    "\n",
    "list1.append(list2)\n",
    " \n",
    "print(list1) \n",
    "\n",
    "# extend = append in this case\n",
    "\n",
    "'''for i in list2:\n",
    "    list1.append(i)\n",
    "print(list1)'''  \n",
    "\n",
    "list1.insert(1,1000) \n",
    "print(list1)\n",
    "\n",
    "# check if list empty or not\n",
    "\n",
    "if len(list1)==0:\n",
    "    print(\"empty list\")\n",
    "else:\n",
    "    print(\"not empty\") \n",
    "\n",
    "    \n",
    "# copy tow lists \n",
    "\n",
    "\n",
    "list3=[1,2,6]\n",
    "list4=list2[:]\n",
    "\n",
    "print(list4) \n",
    "\n",
    "list4=list(list3)\n",
    "\n",
    "print(list4)\n",
    "\n",
    "import copy \n",
    "list4=copy.deepcopy(list3)\n",
    "print(list4)\n",
    "\n",
    "# get the last element in list \n",
    "\n",
    "print(list4[-1]) \n",
    "\n",
    "# sort list using built in function sort()\n",
    "\n",
    "list5=[{\"name\":\"omar\" , \"age\":23},{\"name\":\"ahmed\" , \"age\":22}]\n",
    "list5.sort(key=lambda i:i.get(\"age\"))\n",
    "print(list5) \n",
    "\n",
    "# finally ! removing operation remove ,del,pop 4\n",
    "\n",
    "\n",
    "list6= [10,20,30]\n",
    "list6.remove(10)\n",
    "print(list6)  \n",
    "\n",
    "'''list6.remove(100) \n",
    "print(list6) ''' # return value error \n",
    "\n",
    "list6.pop(0)\n",
    "print(list6)\n",
    "\n",
    "\n",
    "\n"
   ]
  },
  {
   "cell_type": "markdown",
   "metadata": {},
   "source": [
    "typles"
   ]
  },
  {
   "cell_type": "code",
   "execution_count": null,
   "metadata": {},
   "outputs": [],
   "source": [
    "# tuples seems the list but no mutable \n",
    "\n",
    "t1=(1,2,3)\n",
    "print(t1) \n",
    "\n",
    "l1=[1,2,3]\n",
    "t2=(t1,l1)\n",
    "print(t2) \n",
    "print(t2[0][1])  \n",
    "\n",
    "# count a specif element found in tuple\n",
    "t2.count([1,2,3])\n"
   ]
  },
  {
   "cell_type": "markdown",
   "metadata": {},
   "source": [
    "strings"
   ]
  },
  {
   "cell_type": "code",
   "execution_count": null,
   "metadata": {},
   "outputs": [],
   "source": [
    "s1='hello \"omar\" '\n",
    "\n",
    "print(s1)\n",
    "\n",
    "s2=\"mohamed \"\n",
    "print(s1+s2) \n",
    "\n",
    "s3=\"python\"\n",
    "\n",
    "print(s3*3) \n",
    "\n",
    "s4=''' my name is \n",
    "\\\"omar\\\"  \n",
    "''' \n",
    "print(s4) "
   ]
  },
  {
   "cell_type": "markdown",
   "metadata": {},
   "source": [
    "Dict"
   ]
  },
  {
   "cell_type": "code",
   "execution_count": null,
   "metadata": {},
   "outputs": [],
   "source": [
    "# initialize the dict\n",
    "d1={\"name\":\"omar\" ,\"age\":20} \n",
    "print(d1)  \n",
    "\n",
    "d2={\"country\":\"egypt\"} \n",
    "print(d2) \n",
    "\n",
    "print(d1==d2) \n",
    "\n",
    "print(d1.values())\n",
    "print(d2.keys()) \n",
    "\n",
    "#look for item if found return value if not return not found\n",
    "print(d2.get(\"address\",\"not found\"))\n",
    "print(d2.get(\"country\")) \n",
    "# update the value of specific item or not add it with value\n",
    "d1.update({\"work\":\"engineer\"})\n",
    "print(d1) \n",
    "\n",
    "#print(d1.fromkeys(\"a\",20 ,\"c\",30))\n",
    " \n",
    "\n",
    "# convert list to dict\n",
    "\n",
    "\n",
    "l1=[\"name\",\"age\",\"id\"]\n",
    "\n",
    "l2=[\"omar\",20,300041] \n",
    "d3=dict(zip(l1,l2))\n",
    "print(d3) \n",
    "d3.pop(\"id\")  # pop specific item and return the value of key\n",
    "print(d3)\n",
    "\n",
    "# if we use copy fun it's make a change on d1 for all and d2 for specific\n",
    "# if we use deepcopy fun it's make a change on d2 only"
   ]
  },
  {
   "cell_type": "markdown",
   "metadata": {},
   "source": [
    "json"
   ]
  },
  {
   "cell_type": "code",
   "execution_count": null,
   "metadata": {},
   "outputs": [],
   "source": [
    "# import json\n",
    "# dict_j=json.load()\n",
    "# f_dump=json.dumps(dict_j)"
   ]
  },
  {
   "cell_type": "markdown",
   "metadata": {},
   "source": [
    "Looping and condition"
   ]
  },
  {
   "cell_type": "code",
   "execution_count": null,
   "metadata": {},
   "outputs": [],
   "source": [
    "l1=[1,2,3,4,5] \n",
    "\n",
    "for i in l1:\n",
    "    if l1==[]:\n",
    "        print(\"list is empty\")\n",
    "    else:\n",
    "        print(list[i]) \n",
    "l2=[10,20,30,40,50] \n",
    "\n",
    "a=6\n",
    "while a>5:\n",
    "    for i in l2:\n",
    "        print(i) \n",
    "    a=a-1\n",
    "\n",
    "for i in range(1,11):\n",
    "    print(i) "
   ]
  },
  {
   "cell_type": "markdown",
   "metadata": {},
   "source": [
    "Function"
   ]
  },
  {
   "cell_type": "code",
   "execution_count": null,
   "metadata": {},
   "outputs": [],
   "source": [
    "# first built in function\n",
    "int(\"102\")  \n",
    "str(103)\n",
    "float('1.25') \n",
    "bool(0)\n",
    "\n",
    "\n",
    "\n",
    "def myFun(arg1, *argv):\n",
    "    print(\"First argument :\", arg1)\n",
    "    for arg in argv:\n",
    "        print(\"Next argument through *argv :\", arg)\n",
    " \n",
    " \n",
    "myFun('Hello', 'Welcome', 'to', 'GeeksforGeeks') \n",
    "\n",
    "\n",
    "print(\"\\n\")\n",
    "\n",
    "# must be named\n",
    "\n",
    "def myFun(**kwargs):\n",
    "    for key, value in kwargs.items():\n",
    "        print(f\"{key} =={value}\")\n",
    " \n",
    " \n",
    "# Driver code\n",
    "myFun(first='Geeks', mid='for', last='Geeks') \n",
    "\n",
    "\n",
    "print(\"\\n\")\n",
    "\n",
    "\n",
    "print(\"example for recursive fun \") \n",
    "\n",
    "def factorial(n):\n",
    "    if n == 0 or n == 1:\n",
    "        return 1\n",
    "    else:\n",
    "        return n * factorial(n - 1)\n",
    "\n",
    "number = 5\n",
    "result = factorial(number)\n",
    "print(f\"The factorial of {number} is {result}\") \n",
    "\n"
   ]
  },
  {
   "cell_type": "markdown",
   "metadata": {},
   "source": [
    "# **Lampa function** #"
   ]
  },
  {
   "cell_type": "code",
   "execution_count": null,
   "metadata": {},
   "outputs": [],
   "source": [
    "x=lambda x:x*x if x>0 else 0\n",
    "x(5)\n",
    "add=lambda x,y:x+y\n",
    "add(10,-4)\n",
    "\n",
    "# with map fun \n",
    "\n",
    "l=[2,4,6]\n",
    "sq=list(map(lambda x:x*x , l))\n",
    "sq\n",
    "\n",
    "# with filter function\n",
    "# l1=[2,4,6,8,10,13,17]\n",
    "# filter_num=list(filter(lambda x: x%2==0 , l1))\n",
    "# filter\n",
    "\n",
    "# # with product function  \n",
    "# from functools import reduce\n",
    "# l1=[2,4,6,8,10,13,17]\n",
    "# product_num=reduce(lambda x,y:x+y , l1)\n",
    "# product_num"
   ]
  },
  {
   "cell_type": "markdown",
   "metadata": {},
   "source": [
    "data and time\n"
   ]
  },
  {
   "cell_type": "code",
   "execution_count": null,
   "metadata": {},
   "outputs": [],
   "source": [
    "import time \n",
    "localtime = time.asctime( time.localtime(time.time()) ) \n",
    "print(\"Local time :\", localtime) \n",
    "\n",
    "\n",
    "\n",
    "print(\"\\n\") \n",
    "\n",
    "\n",
    "import time # Format into 2016-03-20 11:45:39 >>>\n",
    "print(time.strftime(\"%Y-%m-%d %H:%M:%S\", time.localtime()))     # Format into Sat Mar 28 22:24:24 2016 >>>\n",
    "print(time.strftime(\"%a %b %d %H:%M:%S %Y\", time.localtime()))  # Turn format string into timestamp >>>\n",
    "a = \"Sat Mar 28 22:24:24 2016\" \n",
    "print(time.mktime(time.strptime(a,\"%a %b %d %H:%M:%S %Y\"))) \n",
    "\n",
    "print(\"\\n\")\n",
    "\n",
    "import calendar\n",
    "cal = calendar.month(2023, 8) \n",
    "print(\"output calendar of august 2023:\")\n",
    "print(cal) \n",
    "\n",
    "\n"
   ]
  },
  {
   "cell_type": "markdown",
   "metadata": {},
   "source": [
    "regular expression"
   ]
  },
  {
   "cell_type": "code",
   "execution_count": null,
   "metadata": {},
   "outputs": [],
   "source": [
    "import re\n",
    "\n",
    "# first apply search operation\n",
    "\n",
    "pattren=r\"omar\"\n",
    "\n",
    "result=re.search(pattren,\"My name is omar mohamed\")\n",
    "\n",
    "print(result.group()) \n",
    "\n",
    "\n",
    "# first apply search operation on one char followed by any number of char expect new line\n",
    "\n",
    "pattren=r\"o....\"\n",
    "\n",
    "result=re.search(pattren,\"My name is omar mohamed\")\n",
    "\n",
    "print(result.group()) \n",
    "\n",
    "\n",
    "\n",
    "#Character Classes:** Define a set of characters to match.\n",
    "\n",
    "''' - `[abc]`: Matches any of the characters a, b, or c.\n",
    " `[a-z]`: Matches any lowercase letter.\n",
    "   - `[A-Za-z]`: Matches any letter (both uppercase and lowercase).'''\n",
    "\n",
    "   #Example: To match any vowel\n",
    "import re\n",
    "pattern = r\"[A-Z , a-z]\"\n",
    "text = \"apple\"\n",
    "result = re.findall(pattern, text )\n",
    "print(result)  \n",
    "\n",
    "import re\n",
    "x_test=r\"o+\" \n",
    "t=\"hello omar\"\n",
    "result=re.findall(x_test,t)\n",
    "print(result) \n",
    "\n",
    "import re\n",
    "\n",
    "x_test=r\"^hello\" \n",
    "t=\"hello omar\"\n",
    "result=re.findall(x_test,t,re.MULTILINE)\n",
    "print(result) \n",
    " \n",
    "\n",
    "\n",
    " # test mail\n",
    "\n",
    "import re\n",
    "\n",
    "import re\n",
    "def is_valid_gmail(email):\n",
    "    pattern = r'^[a-z,A-Z,0-9,_%+-]+@gmail+.com$'\n",
    "    result=re.match(pattern, email) \n",
    "    if result==None:\n",
    "        print(\"not found\")\n",
    "    else:\n",
    "        print(\"found\")\n",
    "    return result\n",
    "print(is_valid_gmail(\"omar@gmail.com\"))\n",
    "print(is_valid_gmail(\"omar@gmai.com\"))\n",
    "\n",
    "import re\n",
    "\n",
    "def is_valid_phone(phone):\n",
    "    pattern = r'^20[1][0125][0-9]{8}$'\n",
    "    result=re.match(pattern, phone)\n",
    "    if result==None:\n",
    "        print(\"not found\")\n",
    "    else:\n",
    "        print(\"found\")\n",
    "    return result\n",
    "\n",
    "# Test cases\n",
    "print(is_valid_phone(\"0482293115\"))  # Should return false\n",
    "print(is_valid_phone(\"201029882389\"))  # Should return True \n",
    "\n"
   ]
  },
  {
   "cell_type": "markdown",
   "metadata": {},
   "source": [
    "files"
   ]
  },
  {
   "cell_type": "code",
   "execution_count": null,
   "metadata": {},
   "outputs": [],
   "source": [
    "\n",
    "import os\n",
    "x=open(\"Omar.txt\",\"r\")\n",
    "x.read() \n",
    "x.close()\n",
    "\n",
    "x=open(\"Omar.txt\",\"w\")\n",
    "x.write(\"nice to meet u!\")\n",
    "x.close()\n",
    "\n",
    "z=open(\"Omar.txt\",\"r\")\n",
    "z.read() \n",
    "\n",
    "#os.rename()\n",
    "#os.remove()\n",
    "\n",
    "\n",
    "'''file_path = 'your_file.txt'  # Replace with the actual path of your file\n",
    "new_text = \"This is the new text you want to add.\"\n",
    "\n",
    "with open(file_path, 'a') as file:\n",
    "    # Add the new text to the file\n",
    "    file.write(new_text + '\\n')  # Adding a newline for separation\n",
    "\n",
    "print(\"New text added to the file.\")'''"
   ]
  },
  {
   "cell_type": "markdown",
   "metadata": {},
   "source": [
    "Exception handling\n"
   ]
  },
  {
   "cell_type": "code",
   "execution_count": null,
   "metadata": {},
   "outputs": [],
   "source": [
    "# num=int(input(\"please enter the number\"))\n",
    "\n",
    "# try:\n",
    "#    1/num\n",
    "# except ZeroDivisionError:\n",
    "#    print(\"value error\")\n",
    "# else:\n",
    "#    pass  \n",
    "\n",
    "\n",
    "\n",
    "class MyCustomError(Exception):\n",
    "    pass\n",
    "\n",
    "def my_function(value):\n",
    "    if value == 0:\n",
    "        raise MyCustomError(\"Value cannot be zero\")\n",
    "\n",
    "try:\n",
    "    my_function(0)\n",
    "except MyCustomError as e:\n",
    "    print(\"Custom error:\", e) \n",
    "\n",
    "\n",
    "def divide(x,y):\n",
    "    try:\n",
    "      if y==0:\n",
    "        raise ZeroDivisionError(\"can not divide on zero\") \n",
    "    except ZeroDivisionError as z:\n",
    "        print(z)\n",
    "    else:\n",
    "        print(x/y)\n",
    "divide(2,0)"
   ]
  },
  {
   "cell_type": "markdown",
   "metadata": {},
   "source": [
    "# **enumerate** #"
   ]
  },
  {
   "cell_type": "code",
   "execution_count": 15,
   "metadata": {},
   "outputs": [
    {
     "name": "stdout",
     "output_type": "stream",
     "text": [
      "(0, 5)\n",
      "(1, 6)\n",
      "(2, 7)\n",
      "(3, 5)\n",
      "________________________________________\n",
      "0\n"
     ]
    }
   ],
   "source": [
    "x=[5,6,7,5]\n",
    "for i in enumerate(x):\n",
    "    print(i)\n",
    "print(\"_\"*40)\n",
    "def get_num(x):\n",
    "    yield 0\n",
    "    yield 1\n",
    "    yield 2\n",
    "    yield 3\n",
    "gen=get_num(3)\n",
    "print(next(gen))\n",
    "print(next(gen))\n",
    "print(next(gen))\n",
    "print(next(gen))"
   ]
  },
  {
   "cell_type": "code",
   "execution_count": 3,
   "metadata": {},
   "outputs": [
    {
     "name": "stdout",
     "output_type": "stream",
     "text": [
      "<re.Match object; span=(0, 11), match='omar_222222'>\n"
     ]
    }
   ],
   "source": [
    "# import re\n",
    "# pattern=r\"[a-z, A-Z,_,*,\" \",#][0-9]$\"\n",
    "# text=\"omar\"\n",
    "# x=re.match(pattern,text)\n",
    "# print(x)\n",
    "\n",
    "import re\n",
    "\n",
    "pattern = r\"[a-z ,A-Z, _, *,#]+[0-9]+$\"\n",
    "text = \"omar_222222\"\n",
    "x = re.match(pattern, text)\n",
    "print(x)\n"
   ]
  }
 ],
 "metadata": {
  "kernelspec": {
   "display_name": "Python 3",
   "language": "python",
   "name": "python3"
  },
  "language_info": {
   "codemirror_mode": {
    "name": "ipython",
    "version": 3
   },
   "file_extension": ".py",
   "mimetype": "text/x-python",
   "name": "python",
   "nbconvert_exporter": "python",
   "pygments_lexer": "ipython3",
   "version": "3.11.3"
  },
  "orig_nbformat": 4
 },
 "nbformat": 4,
 "nbformat_minor": 2
}
